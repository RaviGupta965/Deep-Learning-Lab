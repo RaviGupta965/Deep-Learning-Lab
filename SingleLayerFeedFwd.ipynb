{
  "nbformat": 4,
  "nbformat_minor": 0,
  "metadata": {
    "colab": {
      "provenance": [],
      "authorship_tag": "ABX9TyN7v34/nC5oXYkFNO69605j",
      "include_colab_link": true
    },
    "kernelspec": {
      "name": "python3",
      "display_name": "Python 3"
    },
    "language_info": {
      "name": "python"
    }
  },
  "cells": [
    {
      "cell_type": "markdown",
      "metadata": {
        "id": "view-in-github",
        "colab_type": "text"
      },
      "source": [
        "<a href=\"https://colab.research.google.com/github/RaviGupta965/Deep-Learning-Lab/blob/main/SingleLayerFeedFwd.ipynb\" target=\"_parent\"><img src=\"https://colab.research.google.com/assets/colab-badge.svg\" alt=\"Open In Colab\"/></a>"
      ]
    },
    {
      "cell_type": "code",
      "execution_count": 4,
      "metadata": {
        "id": "G0PZa7v_2auH"
      },
      "outputs": [],
      "source": [
        "import numpy as np\n",
        "import matplotlib.pyplot as plt"
      ]
    },
    {
      "cell_type": "code",
      "source": [
        "def step_function(x):\n",
        "    return 1 if x >= 0 else 0"
      ],
      "metadata": {
        "id": "Vs77M5xr2glN"
      },
      "execution_count": 5,
      "outputs": []
    },
    {
      "cell_type": "code",
      "source": [
        "class Perceptron:\n",
        "    def __init__(self, input_size, learning_rate=0.1, epochs=10):\n",
        "        self.weights = np.random.randn(input_size + 1)  # +1 for bias\n",
        "        self.lr = learning_rate\n",
        "        self.epochs = epochs\n",
        "\n",
        "    def predict(self, x):\n",
        "        x = np.insert(x, 0, 1)  # Add bias term\n",
        "        return step_function(np.dot(x, self.weights))\n",
        "\n",
        "    def train(self, X, y):\n",
        "        for epoch in range(self.epochs):\n",
        "            total_error = 0\n",
        "            for i in range(len(X)):\n",
        "                x_i = np.insert(X[i], 0, 1)  # Add bias\n",
        "                y_pred = self.predict(X[i])\n",
        "                error = y[i] - y_pred\n",
        "                self.weights += self.lr * error * x_i  # Weight update\n",
        "                total_error += abs(error)\n",
        "            print(f\"Epoch {epoch+1}: Total Error = {total_error}\")\n",
        "            if total_error == 0:\n",
        "                break  # Stop if no errors\n"
      ],
      "metadata": {
        "id": "OUbbIXnZ2qGs"
      },
      "execution_count": 6,
      "outputs": []
    },
    {
      "cell_type": "code",
      "source": [
        "# XOR inputs\n",
        "X = np.array([[0, 0], [0, 1], [1, 0], [1, 1]])\n",
        "# XOR outputs\n",
        "y = np.array([0, 1, 1, 0])  # XOR truth table"
      ],
      "metadata": {
        "id": "15ZLHzz52sHn"
      },
      "execution_count": 7,
      "outputs": []
    },
    {
      "cell_type": "code",
      "source": [
        "perceptron = Perceptron(input_size=2, learning_rate=0.1, epochs=10)\n",
        "perceptron.train(X, y)\n",
        "\n",
        "# Check predictions\n",
        "for i in range(len(X)):\n",
        "    print(f\"Input: {X[i]} -> Prediction: {perceptron.predict(X[i])}\")"
      ],
      "metadata": {
        "colab": {
          "base_uri": "https://localhost:8080/"
        },
        "id": "fP5YtclS2uAU",
        "outputId": "52adb4bf-087a-4fa5-f73b-8bdc673d480d"
      },
      "execution_count": 8,
      "outputs": [
        {
          "output_type": "stream",
          "name": "stdout",
          "text": [
            "Epoch 1: Total Error = 2\n",
            "Epoch 2: Total Error = 3\n",
            "Epoch 3: Total Error = 2\n",
            "Epoch 4: Total Error = 2\n",
            "Epoch 5: Total Error = 2\n",
            "Epoch 6: Total Error = 2\n",
            "Epoch 7: Total Error = 2\n",
            "Epoch 8: Total Error = 3\n",
            "Epoch 9: Total Error = 4\n",
            "Epoch 10: Total Error = 4\n",
            "Input: [0 0] -> Prediction: 1\n",
            "Input: [0 1] -> Prediction: 0\n",
            "Input: [1 0] -> Prediction: 0\n",
            "Input: [1 1] -> Prediction: 0\n"
          ]
        }
      ]
    },
    {
      "cell_type": "code",
      "source": [
        "from sklearn.neural_network import MLPClassifier\n",
        "\n",
        "# Train MLP\n",
        "mlp = MLPClassifier(hidden_layer_sizes=(2,), activation='relu', solver='adam', max_iter=1000)\n",
        "mlp.fit(X, y)\n",
        "\n",
        "# Test predictions\n",
        "y_pred = mlp.predict(X)\n",
        "print(f\"MLP Predictions: {y_pred}\")"
      ],
      "metadata": {
        "colab": {
          "base_uri": "https://localhost:8080/"
        },
        "id": "5orHWBSL2yeJ",
        "outputId": "4d051a7d-5640-4452-e6a1-3c44b76d5644"
      },
      "execution_count": 9,
      "outputs": [
        {
          "output_type": "stream",
          "name": "stdout",
          "text": [
            "MLP Predictions: [1 0 1 1]\n"
          ]
        }
      ]
    }
  ]
}