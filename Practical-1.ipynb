{
  "cells": [
    {
      "cell_type": "markdown",
      "metadata": {
        "colab_type": "text",
        "id": "view-in-github"
      },
      "source": [
        "<a href=\"https://colab.research.google.com/github/RaviGupta965/Deep-Learning-Lab/blob/main/Practical-1.ipynb\" target=\"_parent\"><img src=\"https://colab.research.google.com/assets/colab-badge.svg\" alt=\"Open In Colab\"/></a>"
      ]
    },
    {
      "cell_type": "code",
      "execution_count": null,
      "metadata": {
        "id": "b23xQP6JsJi9"
      },
      "outputs": [],
      "source": [
        "!mkdir -p ~/.kaggle\n",
        "!cp kaggle.json ~/.kaggle/"
      ]
    },
    {
      "cell_type": "code",
      "execution_count": 13,
      "metadata": {
        "colab": {
          "base_uri": "https://localhost:8080/"
        },
        "id": "cofIlJwTzS40",
        "outputId": "b2682fd7-20b1-4d27-90f9-21d3df3fda2e"
      },
      "outputs": [
        {
          "name": "stdout",
          "output_type": "stream",
          "text": [
            "Dataset URL: https://www.kaggle.com/datasets/uciml/iris\n",
            "License(s): CC0-1.0\n",
            "Downloading iris.zip to /content\n",
            "  0% 0.00/3.60k [00:00<?, ?B/s]\n",
            "100% 3.60k/3.60k [00:00<00:00, 10.2MB/s]\n"
          ]
        }
      ],
      "source": [
        "!kaggle datasets download -d uciml/iris"
      ]
    },
    {
      "cell_type": "code",
      "execution_count": null,
      "metadata": {
        "id": "qj1WZ-JVvN4U"
      },
      "outputs": [],
      "source": [
        "import pandas as pd\n"
      ]
    },
    {
      "cell_type": "code",
      "execution_count": 15,
      "metadata": {
        "id": "XIrZOxJfsrup"
      },
      "outputs": [],
      "source": [
        "import zipfile\n",
        "zip_ref=zipfile.ZipFile('iris.zip')\n",
        "zip_ref.extractall('/content')\n",
        "zip_ref.close()"
      ]
    },
    {
      "cell_type": "code",
      "execution_count": 20,
      "metadata": {
        "id": "tYPlMpUKusxD"
      },
      "outputs": [],
      "source": [
        "file_path='Iris.csv'\n",
        "df=pd.read_csv(file_path)"
      ]
    },
    {
      "cell_type": "code",
      "execution_count": 24,
      "metadata": {
        "id": "J77QR6KEvHsg"
      },
      "outputs": [],
      "source": [
        "#dropping unnecessary colums\n",
        "# print(df)\n",
        "df_numeric = df.drop(columns=['Id', 'Species'])"
      ]
    },
    {
      "cell_type": "code",
      "execution_count": 25,
      "metadata": {
        "colab": {
          "base_uri": "https://localhost:8080/"
        },
        "id": "trcSv5CpvZJn",
        "outputId": "23ce96cf-f781-4754-e73f-d87161fd5a6b"
      },
      "outputs": [
        {
          "name": "stdout",
          "output_type": "stream",
          "text": [
            "Mean: \n",
            " SepalLengthCm    5.843333\n",
            "SepalWidthCm     3.054000\n",
            "PetalLengthCm    3.758667\n",
            "PetalWidthCm     1.198667\n",
            "dtype: float64\n"
          ]
        }
      ],
      "source": [
        "#1. Mean,Median Mode\n",
        "mean_value=df_numeric.mean()\n",
        "print('Mean: \\n',mean_value)"
      ]
    },
    {
      "cell_type": "code",
      "execution_count": 26,
      "metadata": {
        "colab": {
          "base_uri": "https://localhost:8080/"
        },
        "id": "ckTm3x6GwOh1",
        "outputId": "d0388259-7838-4cb8-e9d1-aa8aa4ef9b70"
      },
      "outputs": [
        {
          "name": "stdout",
          "output_type": "stream",
          "text": [
            "Median: \n",
            " SepalLengthCm    5.80\n",
            "SepalWidthCm     3.00\n",
            "PetalLengthCm    4.35\n",
            "PetalWidthCm     1.30\n",
            "dtype: float64\n"
          ]
        }
      ],
      "source": [
        "median_value=df_numeric.median()\n",
        "print('Median: \\n',median_value)"
      ]
    },
    {
      "cell_type": "code",
      "execution_count": 28,
      "metadata": {
        "colab": {
          "base_uri": "https://localhost:8080/"
        },
        "id": "aqGAabSfwamo",
        "outputId": "e0356d5e-cb58-424e-a6e3-0c9fc71934c0"
      },
      "outputs": [
        {
          "name": "stdout",
          "output_type": "stream",
          "text": [
            "Mode: \n",
            " SepalLengthCm    5.0\n",
            "SepalWidthCm     3.0\n",
            "PetalLengthCm    1.5\n",
            "PetalWidthCm     0.2\n",
            "Name: 0, dtype: float64\n"
          ]
        }
      ],
      "source": [
        "mode_value=df_numeric.mode().iloc[0]\n",
        "print('Mode: \\n',mode_value)"
      ]
    },
    {
      "cell_type": "code",
      "execution_count": 33,
      "metadata": {
        "id": "qPVPMF2FwpRG"
      },
      "outputs": [],
      "source": [
        "# Percentile\n",
        "percentiles = {\n",
        "\" 25th Percentile\": df_numeric.quantile(0.25),\n",
        "\"50th Percentile\": df_numeric.quantile(0.50),\n",
        "\"75th Percentile\": df_numeric.quantile(0.75)\n",
        "}"
      ]
    },
    {
      "cell_type": "code",
      "execution_count": 34,
      "metadata": {
        "colab": {
          "base_uri": "https://localhost:8080/"
        },
        "id": "pB_mxvGWw4sZ",
        "outputId": "5cfe25f5-e1b8-474a-907c-db455cf8696b"
      },
      "outputs": [
        {
          "name": "stdout",
          "output_type": "stream",
          "text": [
            "{' 25th Percentile \\n': SepalLengthCm    5.1\n",
            "SepalWidthCm     2.8\n",
            "PetalLengthCm    1.6\n",
            "PetalWidthCm     0.3\n",
            "Name: 0.25, dtype: float64, '50th Percentile \\n': SepalLengthCm    5.80\n",
            "SepalWidthCm     3.00\n",
            "PetalLengthCm    4.35\n",
            "PetalWidthCm     1.30\n",
            "Name: 0.5, dtype: float64, '75th Percentile \\n': SepalLengthCm    6.4\n",
            "SepalWidthCm     3.3\n",
            "PetalLengthCm    5.1\n",
            "PetalWidthCm     1.8\n",
            "Name: 0.75, dtype: float64}\n"
          ]
        }
      ],
      "source": [
        "print(percentiles)"
      ]
    },
    {
      "cell_type": "code",
      "execution_count": 36,
      "metadata": {
        "colab": {
          "base_uri": "https://localhost:8080/"
        },
        "id": "Mzrcf70dw7N7",
        "outputId": "5f54ba71-6b78-4cc8-aa0e-9dda19b20cfc"
      },
      "outputs": [
        {
          "name": "stdout",
          "output_type": "stream",
          "text": [
            "Range:\n",
            " SepalLengthCm    3.6\n",
            "SepalWidthCm     2.4\n",
            "PetalLengthCm    5.9\n",
            "PetalWidthCm     2.4\n",
            "dtype: float64\n"
          ]
        }
      ],
      "source": [
        "# 3. Range\n",
        "range_values = df_numeric.max() - df_numeric.min()\n",
        "print(\"Range:\\n\", range_values)"
      ]
    },
    {
      "cell_type": "code",
      "execution_count": 37,
      "metadata": {
        "colab": {
          "base_uri": "https://localhost:8080/"
        },
        "id": "aNwnNWO2xbvr",
        "outputId": "a22afa38-8735-439d-a380-9d60e754f27d"
      },
      "outputs": [
        {
          "name": "stdout",
          "output_type": "stream",
          "text": [
            "\n",
            "Variance:\n",
            " SepalLengthCm    0.685694\n",
            "SepalWidthCm     0.188004\n",
            "PetalLengthCm    3.113179\n",
            "PetalWidthCm     0.582414\n",
            "dtype: float64\n"
          ]
        }
      ],
      "source": [
        "# 4. Variance\n",
        "variance_values = df_numeric.var()\n",
        "print(\"\\nVariance:\\n\", variance_values)"
      ]
    },
    {
      "cell_type": "code",
      "execution_count": 38,
      "metadata": {
        "colab": {
          "base_uri": "https://localhost:8080/"
        },
        "id": "W_JNZU0_xsXe",
        "outputId": "215813f2-8617-43ec-c192-ab10211674a7"
      },
      "outputs": [
        {
          "name": "stdout",
          "output_type": "stream",
          "text": [
            "\n",
            "Standard Deviation:\n",
            " SepalLengthCm    0.828066\n",
            "SepalWidthCm     0.433594\n",
            "PetalLengthCm    1.764420\n",
            "PetalWidthCm     0.763161\n",
            "dtype: float64\n"
          ]
        }
      ],
      "source": [
        "# 5. Standard Deviation\n",
        "std_dev_values = df_numeric.std()\n",
        "print(\"\\nStandard Deviation:\\n\", std_dev_values)"
      ]
    },
    {
      "cell_type": "code",
      "execution_count": 39,
      "metadata": {
        "colab": {
          "base_uri": "https://localhost:8080/"
        },
        "id": "_q5Fqne2xwbq",
        "outputId": "8cfe9a15-8d0a-48f9-e502-22b819cda5fb"
      },
      "outputs": [
        {
          "name": "stdout",
          "output_type": "stream",
          "text": [
            "\n",
            "Correlation Matrix:\n",
            "                SepalLengthCm  SepalWidthCm  PetalLengthCm  PetalWidthCm\n",
            "SepalLengthCm       1.000000     -0.109369       0.871754      0.817954\n",
            "SepalWidthCm       -0.109369      1.000000      -0.420516     -0.356544\n",
            "PetalLengthCm       0.871754     -0.420516       1.000000      0.962757\n",
            "PetalWidthCm        0.817954     -0.356544       0.962757      1.000000\n"
          ]
        }
      ],
      "source": [
        "# 6. Correlation Matrix\n",
        "correlation_matrix = df_numeric.corr()\n",
        "print(\"\\nCorrelation Matrix:\\n\", correlation_matrix)"
      ]
    },
    {
      "cell_type": "code",
      "execution_count": 40,
      "metadata": {
        "colab": {
          "base_uri": "https://localhost:8080/"
        },
        "id": "g4yIxDs9xz82",
        "outputId": "4e6ef88a-9aee-457c-90aa-e754b466ee82"
      },
      "outputs": [
        {
          "name": "stdout",
          "output_type": "stream",
          "text": [
            "\n",
            "Covariance Matrix:\n",
            "                SepalLengthCm  SepalWidthCm  PetalLengthCm  PetalWidthCm\n",
            "SepalLengthCm       0.685694     -0.039268       1.273682      0.516904\n",
            "SepalWidthCm       -0.039268      0.188004      -0.321713     -0.117981\n",
            "PetalLengthCm       1.273682     -0.321713       3.113179      1.296387\n",
            "PetalWidthCm        0.516904     -0.117981       1.296387      0.582414\n"
          ]
        }
      ],
      "source": [
        "# 7. Covariance Matrix\n",
        "covariance_matrix = df_numeric.cov()\n",
        "print(\"\\nCovariance Matrix:\\n\", covariance_matrix)"
      ]
    }
  ],
  "metadata": {
    "accelerator": "TPU",
    "colab": {
      "authorship_tag": "ABX9TyOzE4zaMWNLb811QC4wPa3O",
      "gpuType": "V28",
      "include_colab_link": true,
      "provenance": []
    },
    "kernelspec": {
      "display_name": "Python 3",
      "name": "python3"
    },
    "language_info": {
      "name": "python"
    }
  },
  "nbformat": 4,
  "nbformat_minor": 0
}
